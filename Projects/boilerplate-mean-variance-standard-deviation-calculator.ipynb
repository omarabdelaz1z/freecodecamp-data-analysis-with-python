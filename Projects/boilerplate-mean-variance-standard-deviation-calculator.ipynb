{
 "cells": [
  {
   "cell_type": "code",
   "execution_count": 1,
   "id": "charming-quantum",
   "metadata": {},
   "outputs": [],
   "source": [
    "import numpy as np"
   ]
  },
  {
   "cell_type": "markdown",
   "id": "egyptian-margin",
   "metadata": {},
   "source": [
    "### Version 1"
   ]
  },
  {
   "cell_type": "code",
   "execution_count": 2,
   "id": "precise-burst",
   "metadata": {},
   "outputs": [],
   "source": [
    "def calculate(data):\n",
    "    \"\"\"\n",
    "    Compute Summary Statistics \n",
    "    \n",
    "    input: list- list of numbers.\n",
    "    output: calculations- a dictionary of predetermined summary statistics for the data.\n",
    "    \"\"\"\n",
    "    \n",
    "    ## If the precondition is not satisfied, terminate early.\n",
    "    if(len(data) != 9):\n",
    "        raise ValueError('List must contain nine numbers.')\n",
    "        \n",
    "    ## Setup objects\n",
    "    matrix = np.reshape(data, (3, 3))\n",
    "    calculations = dict.fromkeys(['mean', 'variance', 'standard deviation', 'max', 'min', 'sum'], None)\n",
    "    \n",
    "    for operation in calculations.keys():\n",
    "        if(operation == 'mean'):\n",
    "            calculations['mean'] = [\n",
    "                list(matrix.mean(axis = 0)),\n",
    "                list(matrix.mean(axis = 1)),\n",
    "                matrix.mean()\n",
    "            ]\n",
    "\n",
    "        elif(operation == 'variance'):\n",
    "            calculations['variance'] = [\n",
    "                list(matrix.var(axis = 0)),\n",
    "                list(matrix.var(axis = 1)),\n",
    "                matrix.var()\n",
    "            ]\n",
    "\n",
    "\n",
    "        elif(operation == 'standard deviation'):\n",
    "            calculations['standard deviation'] = [\n",
    "                list(matrix.std(axis = 0)),\n",
    "                list(matrix.std(axis = 1)),\n",
    "                matrix.std()\n",
    "            ]\n",
    "\n",
    "        elif(operation == 'max'):\n",
    "            calculations['max'] = [\n",
    "                list(matrix.max(axis = 0)),\n",
    "                list(matrix.max(axis = 1)),\n",
    "                matrix.max()\n",
    "            ]\n",
    "\n",
    "        elif(operation == 'min'):\n",
    "            calculations['min'] = [\n",
    "                list(matrix.min(axis = 0)),\n",
    "                list(matrix.min(axis = 1)),\n",
    "                matrix.min()\n",
    "            ]\n",
    "\n",
    "        elif(operation == 'sum'):\n",
    "            calculations['sum'] = [\n",
    "                list(matrix.sum(axis = 0)),\n",
    "                list(matrix.sum(axis = 1)),\n",
    "                matrix.sum()\n",
    "            ] \n",
    "\n",
    "    return calculations"
   ]
  },
  {
   "cell_type": "code",
   "execution_count": 3,
   "id": "going-resistance",
   "metadata": {
    "scrolled": true
   },
   "outputs": [
    {
     "data": {
      "text/plain": [
       "{'mean': [[3.0, 4.0, 5.0], [1.0, 4.0, 7.0], 4.0],\n",
       " 'variance': [[6.0, 6.0, 6.0],\n",
       "  [0.6666666666666666, 0.6666666666666666, 0.6666666666666666],\n",
       "  6.666666666666667],\n",
       " 'standard deviation': [[2.449489742783178,\n",
       "   2.449489742783178,\n",
       "   2.449489742783178],\n",
       "  [0.816496580927726, 0.816496580927726, 0.816496580927726],\n",
       "  2.581988897471611],\n",
       " 'max': [[6, 7, 8], [2, 5, 8], 8],\n",
       " 'min': [[0, 1, 2], [0, 3, 6], 0],\n",
       " 'sum': [[9, 12, 15], [3, 12, 21], 36]}"
      ]
     },
     "execution_count": 3,
     "metadata": {},
     "output_type": "execute_result"
    }
   ],
   "source": [
    "calculate([0,1,2,3,4,5,6,7,8])"
   ]
  },
  {
   "cell_type": "markdown",
   "id": "boring-visit",
   "metadata": {},
   "source": [
    "### Version 2"
   ]
  },
  {
   "cell_type": "code",
   "execution_count": 4,
   "id": "interstate-recycling",
   "metadata": {},
   "outputs": [],
   "source": [
    "def calculate2(data):\n",
    "    \"\"\"\n",
    "    Compute Summary Statistics \n",
    "    \n",
    "    input: list- list of numbers.\n",
    "    output: calculations- a dictionary of predetermined summary statistics for the data.\n",
    "    \"\"\"\n",
    "    \n",
    "    ## If the precondition is not satisfied, terminate early.\n",
    "    if(len(data) != 9):\n",
    "        raise ValueError('List must contain nine numbers.')\n",
    "        \n",
    "    ## Setup objects\n",
    "    matrix = np.reshape(data, (3, 3))\n",
    "    calculations = dict.fromkeys(['mean', 'variance', 'standard deviation', 'max', 'min', 'sum'], None)\n",
    "    functions = [np.mean, np.var, np.std, np.max, np.min, np.sum]\n",
    "    \n",
    "    # Main Job\n",
    "    for operation, function in zip(calculations.keys(), functions):\n",
    "        calculations[operation] = [\n",
    "            list(np.apply_along_axis(function, 0, matrix)),\n",
    "            list(np.apply_along_axis(function, 1, matrix)),\n",
    "            function(data)\n",
    "        ]\n",
    "\n",
    "    return calculations"
   ]
  },
  {
   "cell_type": "code",
   "execution_count": 5,
   "id": "premier-trigger",
   "metadata": {
    "scrolled": true
   },
   "outputs": [
    {
     "data": {
      "text/plain": [
       "{'mean': [[3.0, 4.0, 5.0], [1.0, 4.0, 7.0], 4.0],\n",
       " 'variance': [[6.0, 6.0, 6.0],\n",
       "  [0.6666666666666666, 0.6666666666666666, 0.6666666666666666],\n",
       "  6.666666666666667],\n",
       " 'standard deviation': [[2.449489742783178,\n",
       "   2.449489742783178,\n",
       "   2.449489742783178],\n",
       "  [0.816496580927726, 0.816496580927726, 0.816496580927726],\n",
       "  2.581988897471611],\n",
       " 'max': [[6, 7, 8], [2, 5, 8], 8],\n",
       " 'min': [[0, 1, 2], [0, 3, 6], 0],\n",
       " 'sum': [[9, 12, 15], [3, 12, 21], 36]}"
      ]
     },
     "execution_count": 5,
     "metadata": {},
     "output_type": "execute_result"
    }
   ],
   "source": [
    "calculate2([0,1,2,3,4,5,6,7,8])"
   ]
  }
 ],
 "metadata": {
  "kernelspec": {
   "display_name": "Python 3",
   "language": "python",
   "name": "python3"
  },
  "language_info": {
   "codemirror_mode": {
    "name": "ipython",
    "version": 3
   },
   "file_extension": ".py",
   "mimetype": "text/x-python",
   "name": "python",
   "nbconvert_exporter": "python",
   "pygments_lexer": "ipython3",
   "version": "3.8.5"
  }
 },
 "nbformat": 4,
 "nbformat_minor": 5
}
