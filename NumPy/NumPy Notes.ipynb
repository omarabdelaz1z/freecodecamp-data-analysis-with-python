{
 "cells": [
  {
   "cell_type": "markdown",
   "id": "cardiovascular-necessity",
   "metadata": {},
   "source": [
    "### Checkout [NumPy Documentation](https://numpy.org/doc/stable/)"
   ]
  },
  {
   "cell_type": "markdown",
   "id": "traditional-attachment",
   "metadata": {},
   "source": [
    "### NumPy Notes\n",
    "\n",
    "\n",
    "> - Efficient representation for numbers (floats, ints)\n",
    "> - NumPy Array is a contiguous and fixed block of memory containing fixed-sized data items. (Like C or Fortran)\n",
    "> - Operations in NumPy Arrays return a new list. offer immutability\n",
    "\n",
    "![numpy-arrays](numpyArrays.png)"
   ]
  },
  {
   "cell_type": "markdown",
   "id": "coral-details",
   "metadata": {},
   "source": [
    "## Import Packages"
   ]
  },
  {
   "cell_type": "code",
   "execution_count": 1,
   "id": "inappropriate-nomination",
   "metadata": {},
   "outputs": [],
   "source": [
    "import numpy as np"
   ]
  },
  {
   "cell_type": "markdown",
   "id": "above-magnet",
   "metadata": {},
   "source": [
    "### Create NumPy Arrays: 1-Dimensional"
   ]
  },
  {
   "cell_type": "code",
   "execution_count": 2,
   "id": "visible-train",
   "metadata": {},
   "outputs": [
    {
     "data": {
      "text/plain": [
       "array([1, 2, 3, 4])"
      ]
     },
     "execution_count": 2,
     "metadata": {},
     "output_type": "execute_result"
    }
   ],
   "source": [
    "a = np.array([1, 2, 3, 4])\n",
    "a"
   ]
  },
  {
   "cell_type": "code",
   "execution_count": 3,
   "id": "neither-grammar",
   "metadata": {
    "scrolled": true
   },
   "outputs": [
    {
     "data": {
      "text/plain": [
       "array([0. , 0.5, 1. , 1.5])"
      ]
     },
     "execution_count": 3,
     "metadata": {},
     "output_type": "execute_result"
    }
   ],
   "source": [
    "# floats\n",
    "b = np.array([0, .5, 1, 1.5])\n",
    "b"
   ]
  },
  {
   "cell_type": "markdown",
   "id": "developed-andorra",
   "metadata": {},
   "source": [
    "### Accessing & Slicing: 1-Dimensional"
   ]
  },
  {
   "cell_type": "code",
   "execution_count": 4,
   "id": "honest-institution",
   "metadata": {},
   "outputs": [
    {
     "name": "stdout",
     "output_type": "stream",
     "text": [
      "1\n",
      "2\n"
     ]
    }
   ],
   "source": [
    "# accessing\n",
    "print(a[0]) \n",
    "print(a[1])"
   ]
  },
  {
   "cell_type": "code",
   "execution_count": 5,
   "id": "removable-berlin",
   "metadata": {
    "scrolled": true
   },
   "outputs": [
    {
     "name": "stdout",
     "output_type": "stream",
     "text": [
      "[1 2 3 4]\n",
      "[3 4]\n",
      "[2 3 4]\n"
     ]
    }
   ],
   "source": [
    "# slicing \n",
    "\n",
    "# from 1st till the end (end is implicitly assigned as 4)\n",
    "print(a[0:])\n",
    "\n",
    "# from 3rd till the end.\n",
    "print(a[2:])\n",
    "\n",
    "# from 2nd till the end. (index = 4 - 1, which is index 3)\n",
    "print(a[1:4])"
   ]
  },
  {
   "cell_type": "code",
   "execution_count": 6,
   "id": "sealed-basics",
   "metadata": {},
   "outputs": [
    {
     "name": "stdout",
     "output_type": "stream",
     "text": [
      "[2 3]\n"
     ]
    }
   ],
   "source": [
    "# negative slicing\n",
    "print(a[1:-1])"
   ]
  },
  {
   "cell_type": "markdown",
   "id": "opposite-brain",
   "metadata": {},
   "source": [
    "![PrepInsta Example - Negative Slicing](https://prepinsta.com/wp-content/uploads/2020/08/Slicing-with-Negative-Numbers-in-Python.webp)"
   ]
  },
  {
   "cell_type": "code",
   "execution_count": 7,
   "id": "nominated-beginning",
   "metadata": {
    "scrolled": false
   },
   "outputs": [
    {
     "data": {
      "text/plain": [
       "array([1, 3, 4])"
      ]
     },
     "execution_count": 7,
     "metadata": {},
     "output_type": "execute_result"
    }
   ],
   "source": [
    "# multi-indexing slicing\n",
    "selected_indices = [0, 2, -1]\n",
    "a[selected_indices]"
   ]
  },
  {
   "cell_type": "markdown",
   "id": "figured-answer",
   "metadata": {},
   "source": [
    "### Array Datatypes"
   ]
  },
  {
   "cell_type": "code",
   "execution_count": 8,
   "id": "collect-forty",
   "metadata": {
    "scrolled": true
   },
   "outputs": [
    {
     "name": "stdout",
     "output_type": "stream",
     "text": [
      "int32\n",
      "float64\n"
     ]
    }
   ],
   "source": [
    "print(a.dtype)\n",
    "print(b.dtype)"
   ]
  },
  {
   "cell_type": "markdown",
   "id": "aging-fundamental",
   "metadata": {},
   "source": [
    "### Array Shape: (Rows, Columns)"
   ]
  },
  {
   "cell_type": "code",
   "execution_count": 9,
   "id": "joined-princess",
   "metadata": {
    "scrolled": true
   },
   "outputs": [
    {
     "data": {
      "text/plain": [
       "(4,)"
      ]
     },
     "execution_count": 9,
     "metadata": {},
     "output_type": "execute_result"
    }
   ],
   "source": [
    "a.shape"
   ]
  },
  {
   "cell_type": "markdown",
   "id": "hungry-topic",
   "metadata": {},
   "source": [
    "### Array Size: Total Number of Elements"
   ]
  },
  {
   "cell_type": "code",
   "execution_count": 10,
   "id": "soviet-warning",
   "metadata": {},
   "outputs": [
    {
     "data": {
      "text/plain": [
       "4"
      ]
     },
     "execution_count": 10,
     "metadata": {},
     "output_type": "execute_result"
    }
   ],
   "source": [
    "a.size"
   ]
  },
  {
   "cell_type": "markdown",
   "id": "manual-orleans",
   "metadata": {},
   "source": [
    "### Dimensions of NumPy Array"
   ]
  },
  {
   "cell_type": "code",
   "execution_count": 11,
   "id": "handed-eight",
   "metadata": {
    "scrolled": true
   },
   "outputs": [
    {
     "data": {
      "text/plain": [
       "1"
      ]
     },
     "execution_count": 11,
     "metadata": {},
     "output_type": "execute_result"
    }
   ],
   "source": [
    "a.ndim"
   ]
  },
  {
   "cell_type": "markdown",
   "id": "collect-saskatchewan",
   "metadata": {},
   "source": [
    "### Create NumPy Arrays: 2-Dimensional \n",
    "![2D-Numpy](https://www.pythoninformer.com/img/numpy/2d-array-col-1.png)"
   ]
  },
  {
   "cell_type": "code",
   "execution_count": 12,
   "id": "bored-activation",
   "metadata": {
    "scrolled": false
   },
   "outputs": [],
   "source": [
    "A = np.array(\n",
    "    [\n",
    "        [1, 2, 3], # 0\n",
    "        [4, 5, 6], # 1\n",
    "        [7, 8, 9]  # 2\n",
    "    ])"
   ]
  },
  {
   "cell_type": "code",
   "execution_count": 13,
   "id": "stock-paint",
   "metadata": {},
   "outputs": [
    {
     "data": {
      "text/plain": [
       "(3, 3)"
      ]
     },
     "execution_count": 13,
     "metadata": {},
     "output_type": "execute_result"
    }
   ],
   "source": [
    "A.shape"
   ]
  },
  {
   "cell_type": "code",
   "execution_count": 14,
   "id": "awful-inside",
   "metadata": {
    "scrolled": true
   },
   "outputs": [
    {
     "data": {
      "text/plain": [
       "9"
      ]
     },
     "execution_count": 14,
     "metadata": {},
     "output_type": "execute_result"
    }
   ],
   "source": [
    "# total number of elements in A \n",
    "A.size"
   ]
  },
  {
   "cell_type": "code",
   "execution_count": 15,
   "id": "structured-kuwait",
   "metadata": {
    "scrolled": false
   },
   "outputs": [
    {
     "data": {
      "text/plain": [
       "2"
      ]
     },
     "execution_count": 15,
     "metadata": {},
     "output_type": "execute_result"
    }
   ],
   "source": [
    "# Dimensions in A\n",
    "A.ndim"
   ]
  },
  {
   "cell_type": "markdown",
   "id": "russian-ferry",
   "metadata": {},
   "source": [
    "<img src=\"https://www.oreilly.com/library/view/python-for-data/9781449323592/httpatomoreillycomsourceoreillyimages2172112.png\" width=\"300\" height=\"300\">"
   ]
  },
  {
   "cell_type": "code",
   "execution_count": 16,
   "id": "independent-abuse",
   "metadata": {},
   "outputs": [
    {
     "name": "stdout",
     "output_type": "stream",
     "text": [
      "2\n",
      "2\n",
      "4\n",
      "4\n",
      "[4 5 6]\n",
      "[2 5 8]\n",
      "[3 6 9]\n"
     ]
    }
   ],
   "source": [
    "# first row, second column \n",
    "\n",
    "# traditional indexing\n",
    "print(A[0][1])\n",
    "\n",
    "# numpy indexing in case of 2d arrays\n",
    "print(A[0, 1])\n",
    "\n",
    "\n",
    "# second row, first column\n",
    "print(A[1][0])\n",
    "print(A[1, 0])\n",
    "\n",
    "# print second row elements\n",
    "print(A[1, ])\n",
    "\n",
    "# from all rows, print second column only\n",
    "print(A[:, 1])\n",
    "\n",
    "# from all rows, print third column only\n",
    "print(A[:, 2])"
   ]
  },
  {
   "cell_type": "code",
   "execution_count": 17,
   "id": "french-orleans",
   "metadata": {},
   "outputs": [
    {
     "data": {
      "text/plain": [
       "(3, 3)"
      ]
     },
     "execution_count": 17,
     "metadata": {},
     "output_type": "execute_result"
    }
   ],
   "source": [
    "# Rows and Columns in A\n",
    "A.shape"
   ]
  },
  {
   "cell_type": "markdown",
   "id": "olympic-crest",
   "metadata": {},
   "source": [
    "### Mutate Data"
   ]
  },
  {
   "cell_type": "code",
   "execution_count": 18,
   "id": "regular-plasma",
   "metadata": {},
   "outputs": [
    {
     "data": {
      "text/plain": [
       "array([[ 1,  2,  3],\n",
       "       [10, 10, 10],\n",
       "       [ 7,  8,  9]])"
      ]
     },
     "execution_count": 18,
     "metadata": {},
     "output_type": "execute_result"
    }
   ],
   "source": [
    "A[1] = np.array([10, 10 , 10])\n",
    "A"
   ]
  },
  {
   "cell_type": "code",
   "execution_count": 19,
   "id": "developing-creativity",
   "metadata": {
    "scrolled": true
   },
   "outputs": [
    {
     "data": {
      "text/plain": [
       "array([[ 1,  2,  3],\n",
       "       [10, 10, 10],\n",
       "       [76, 76, 76]])"
      ]
     },
     "execution_count": 19,
     "metadata": {},
     "output_type": "execute_result"
    }
   ],
   "source": [
    "A[2] = 76\n",
    "A"
   ]
  },
  {
   "cell_type": "markdown",
   "id": "adopted-overview",
   "metadata": {},
   "source": [
    "### Basic Summary Statistics Methods"
   ]
  },
  {
   "cell_type": "code",
   "execution_count": 20,
   "id": "compact-frontier",
   "metadata": {},
   "outputs": [
    {
     "data": {
      "text/plain": [
       "array([1, 2, 3, 4])"
      ]
     },
     "execution_count": 20,
     "metadata": {},
     "output_type": "execute_result"
    }
   ],
   "source": [
    "a"
   ]
  },
  {
   "cell_type": "code",
   "execution_count": 21,
   "id": "promotional-mystery",
   "metadata": {},
   "outputs": [
    {
     "data": {
      "text/plain": [
       "10"
      ]
     },
     "execution_count": 21,
     "metadata": {},
     "output_type": "execute_result"
    }
   ],
   "source": [
    "a.sum()"
   ]
  },
  {
   "cell_type": "code",
   "execution_count": 22,
   "id": "stuffed-words",
   "metadata": {},
   "outputs": [
    {
     "data": {
      "text/plain": [
       "2.5"
      ]
     },
     "execution_count": 22,
     "metadata": {},
     "output_type": "execute_result"
    }
   ],
   "source": [
    "a.mean()"
   ]
  },
  {
   "cell_type": "code",
   "execution_count": 23,
   "id": "loved-olympus",
   "metadata": {},
   "outputs": [
    {
     "data": {
      "text/plain": [
       "1.118033988749895"
      ]
     },
     "execution_count": 23,
     "metadata": {},
     "output_type": "execute_result"
    }
   ],
   "source": [
    "a.std()"
   ]
  },
  {
   "cell_type": "code",
   "execution_count": 24,
   "id": "graphic-envelope",
   "metadata": {},
   "outputs": [],
   "source": [
    "A = np.array(\n",
    "    [\n",
    "        [1, 2, 3], # 0\n",
    "        [4, 5, 6], # 1\n",
    "        [7, 8, 9]  # 2\n",
    "    ])"
   ]
  },
  {
   "cell_type": "markdown",
   "id": "stopped-turner",
   "metadata": {},
   "source": [
    "![Axeses in Python](https://miro.medium.com/max/728/1*6vOXYklmCfYhNIR7ENScYg.png)"
   ]
  },
  {
   "cell_type": "code",
   "execution_count": 25,
   "id": "signal-discrimination",
   "metadata": {
    "scrolled": true
   },
   "outputs": [
    {
     "name": "stdout",
     "output_type": "stream",
     "text": [
      "[ 6 15 24]\n",
      "[12 15 18]\n"
     ]
    }
   ],
   "source": [
    "print(A.sum(axis = 1))\n",
    "print(A.sum(axis = 0))"
   ]
  },
  {
   "cell_type": "markdown",
   "id": "utility-nowhere",
   "metadata": {},
   "source": [
    "### Vectorized Operations"
   ]
  },
  {
   "cell_type": "code",
   "execution_count": 26,
   "id": "american-essay",
   "metadata": {},
   "outputs": [
    {
     "data": {
      "text/plain": [
       "array([0, 1, 2, 3])"
      ]
     },
     "execution_count": 26,
     "metadata": {},
     "output_type": "execute_result"
    }
   ],
   "source": [
    "# arange: from 0 to end (4)\n",
    "a = np.arange(4)\n",
    "a"
   ]
  },
  {
   "cell_type": "code",
   "execution_count": 27,
   "id": "nearby-onion",
   "metadata": {},
   "outputs": [
    {
     "data": {
      "text/plain": [
       "array([0, 2, 4, 6])"
      ]
     },
     "execution_count": 27,
     "metadata": {},
     "output_type": "execute_result"
    }
   ],
   "source": [
    "# Examples of Vectorized operations\n",
    "# multiply each number in 'a' by 2\n",
    "a * 2"
   ]
  },
  {
   "cell_type": "code",
   "execution_count": 28,
   "id": "textile-tribe",
   "metadata": {
    "scrolled": true
   },
   "outputs": [
    {
     "data": {
      "text/plain": [
       "array([10, 11, 12, 13])"
      ]
     },
     "execution_count": 28,
     "metadata": {},
     "output_type": "execute_result"
    }
   ],
   "source": [
    "a + 10"
   ]
  },
  {
   "cell_type": "code",
   "execution_count": 29,
   "id": "regular-conflict",
   "metadata": {},
   "outputs": [
    {
     "data": {
      "text/plain": [
       "array([10, 10, 10, 10])"
      ]
     },
     "execution_count": 29,
     "metadata": {},
     "output_type": "execute_result"
    }
   ],
   "source": [
    "b = np.array([10, 10, 10, 10])\n",
    "b"
   ]
  },
  {
   "cell_type": "code",
   "execution_count": 30,
   "id": "bridal-compilation",
   "metadata": {
    "scrolled": true
   },
   "outputs": [
    {
     "data": {
      "text/plain": [
       "array([10, 11, 12, 13])"
      ]
     },
     "execution_count": 30,
     "metadata": {},
     "output_type": "execute_result"
    }
   ],
   "source": [
    "a + b"
   ]
  },
  {
   "cell_type": "markdown",
   "id": "adapted-adoption",
   "metadata": {},
   "source": [
    "### Boolean Indexing"
   ]
  },
  {
   "cell_type": "code",
   "execution_count": 54,
   "id": "virtual-cardiff",
   "metadata": {},
   "outputs": [
    {
     "data": {
      "text/plain": [
       "array([0, 1, 2, 3, 4, 5])"
      ]
     },
     "execution_count": 54,
     "metadata": {},
     "output_type": "execute_result"
    }
   ],
   "source": [
    "a = np.arange(6)\n",
    "a"
   ]
  },
  {
   "cell_type": "code",
   "execution_count": 55,
   "id": "seasonal-personality",
   "metadata": {
    "scrolled": true
   },
   "outputs": [
    {
     "data": {
      "text/plain": [
       "array([2, 3, 4, 5])"
      ]
     },
     "execution_count": 55,
     "metadata": {},
     "output_type": "execute_result"
    }
   ],
   "source": [
    "a[a > 1]"
   ]
  },
  {
   "cell_type": "code",
   "execution_count": 56,
   "id": "awful-scope",
   "metadata": {},
   "outputs": [
    {
     "data": {
      "text/plain": [
       "array([3])"
      ]
     },
     "execution_count": 56,
     "metadata": {},
     "output_type": "execute_result"
    }
   ],
   "source": [
    "a[a == 3]"
   ]
  },
  {
   "cell_type": "code",
   "execution_count": 57,
   "id": "elder-stations",
   "metadata": {
    "scrolled": true
   },
   "outputs": [
    {
     "data": {
      "text/plain": [
       "array([5])"
      ]
     },
     "execution_count": 57,
     "metadata": {},
     "output_type": "execute_result"
    }
   ],
   "source": [
    "a[a == 5]"
   ]
  },
  {
   "cell_type": "code",
   "execution_count": 58,
   "id": "chief-dallas",
   "metadata": {
    "scrolled": false
   },
   "outputs": [
    {
     "data": {
      "text/plain": [
       "array([0, 3, 4])"
      ]
     },
     "execution_count": 58,
     "metadata": {},
     "output_type": "execute_result"
    }
   ],
   "source": [
    "a[[True, False, False, True, True, False]]"
   ]
  },
  {
   "cell_type": "code",
   "execution_count": 59,
   "id": "interior-rings",
   "metadata": {
    "scrolled": true
   },
   "outputs": [
    {
     "data": {
      "text/plain": [
       "2.5"
      ]
     },
     "execution_count": 59,
     "metadata": {},
     "output_type": "execute_result"
    }
   ],
   "source": [
    "mean = a.mean()\n",
    "mean"
   ]
  },
  {
   "cell_type": "code",
   "execution_count": 60,
   "id": "biblical-privilege",
   "metadata": {},
   "outputs": [
    {
     "data": {
      "text/plain": [
       "array([0, 1, 2])"
      ]
     },
     "execution_count": 60,
     "metadata": {},
     "output_type": "execute_result"
    }
   ],
   "source": [
    "a[a < mean]"
   ]
  },
  {
   "cell_type": "markdown",
   "id": "strong-coupon",
   "metadata": {},
   "source": [
    "### Linear Algebra\n"
   ]
  },
  {
   "cell_type": "code",
   "execution_count": 69,
   "id": "atmospheric-monroe",
   "metadata": {},
   "outputs": [],
   "source": [
    "A = np.array([\n",
    "    [1, 2, 3],\n",
    "    [4, 5, 6],\n",
    "    [7, 8, 9]\n",
    "])\n",
    "\n",
    "B = np.array([\n",
    "    [6, 5],\n",
    "    [4, 3],\n",
    "    [2, 1]\n",
    "])"
   ]
  },
  {
   "cell_type": "code",
   "execution_count": 70,
   "id": "simple-holiday",
   "metadata": {},
   "outputs": [
    {
     "data": {
      "text/plain": [
       "array([[20, 14],\n",
       "       [56, 41],\n",
       "       [92, 68]])"
      ]
     },
     "execution_count": 70,
     "metadata": {},
     "output_type": "execute_result"
    }
   ],
   "source": [
    "# A dot product B\n",
    "A.dot(B)"
   ]
  },
  {
   "cell_type": "code",
   "execution_count": 71,
   "id": "quick-cyprus",
   "metadata": {},
   "outputs": [
    {
     "data": {
      "text/plain": [
       "array([[20, 14],\n",
       "       [56, 41],\n",
       "       [92, 68]])"
      ]
     },
     "execution_count": 71,
     "metadata": {},
     "output_type": "execute_result"
    }
   ],
   "source": [
    "# A cross product B\n",
    "A @ B"
   ]
  },
  {
   "cell_type": "code",
   "execution_count": 72,
   "id": "soviet-government",
   "metadata": {
    "scrolled": true
   },
   "outputs": [
    {
     "data": {
      "text/plain": [
       "array([[6, 4, 2],\n",
       "       [5, 3, 1]])"
      ]
     },
     "execution_count": 72,
     "metadata": {},
     "output_type": "execute_result"
    }
   ],
   "source": [
    "# B Transpose\n",
    "B.T"
   ]
  },
  {
   "cell_type": "markdown",
   "id": "suited-state",
   "metadata": {},
   "source": [
    "### Size of objects in Memory"
   ]
  },
  {
   "cell_type": "code",
   "execution_count": 76,
   "id": "international-guest",
   "metadata": {},
   "outputs": [],
   "source": [
    "import sys"
   ]
  },
  {
   "cell_type": "code",
   "execution_count": 77,
   "id": "social-mapping",
   "metadata": {
    "scrolled": true
   },
   "outputs": [
    {
     "data": {
      "text/plain": [
       "28"
      ]
     },
     "execution_count": 77,
     "metadata": {},
     "output_type": "execute_result"
    }
   ],
   "source": [
    "# size of an integer in python (in bytes)\n",
    "sys.getsizeof(1)"
   ]
  },
  {
   "cell_type": "code",
   "execution_count": 80,
   "id": "angry-softball",
   "metadata": {},
   "outputs": [
    {
     "data": {
      "text/plain": [
       "24"
      ]
     },
     "execution_count": 80,
     "metadata": {},
     "output_type": "execute_result"
    }
   ],
   "source": [
    "# size of a float in python (in bytes)\n",
    "sys.getsizeof(1.0)"
   ]
  },
  {
   "cell_type": "code",
   "execution_count": 78,
   "id": "breeding-ancient",
   "metadata": {
    "scrolled": false
   },
   "outputs": [
    {
     "data": {
      "text/plain": [
       "4"
      ]
     },
     "execution_count": 78,
     "metadata": {},
     "output_type": "execute_result"
    }
   ],
   "source": [
    "np.dtype(int).itemsize\n",
    "# just 4 bytes"
   ]
  },
  {
   "cell_type": "code",
   "execution_count": 79,
   "id": "reverse-floor",
   "metadata": {
    "scrolled": false
   },
   "outputs": [
    {
     "data": {
      "text/plain": [
       "8"
      ]
     },
     "execution_count": 79,
     "metadata": {},
     "output_type": "execute_result"
    }
   ],
   "source": [
    "np.dtype(float).itemsize"
   ]
  }
 ],
 "metadata": {
  "kernelspec": {
   "display_name": "Python 3",
   "language": "python",
   "name": "python3"
  },
  "language_info": {
   "codemirror_mode": {
    "name": "ipython",
    "version": 3
   },
   "file_extension": ".py",
   "mimetype": "text/x-python",
   "name": "python",
   "nbconvert_exporter": "python",
   "pygments_lexer": "ipython3",
   "version": "3.8.5"
  }
 },
 "nbformat": 4,
 "nbformat_minor": 5
}
