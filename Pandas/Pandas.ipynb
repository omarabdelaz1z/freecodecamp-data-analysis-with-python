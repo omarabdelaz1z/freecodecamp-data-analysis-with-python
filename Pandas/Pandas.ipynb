{
 "cells": [
  {
   "cell_type": "markdown",
   "id": "recent-singing",
   "metadata": {},
   "source": [
    "### Pandas Notes\n",
    "\n",
    "\n",
    "> - Pandas series is a given sequence of data indexed by a given index indentifier, that could be a number, string or date, etc..\n",
    "> - \n",
    "> - \n",
    "\n",
    "<img src=\"pandas.png\" width=\"300\" height = \"300\">"
   ]
  },
  {
   "cell_type": "markdown",
   "id": "challenging-glucose",
   "metadata": {},
   "source": [
    "## Import Packages"
   ]
  },
  {
   "cell_type": "code",
   "execution_count": 2,
   "id": "exclusive-sunset",
   "metadata": {},
   "outputs": [],
   "source": [
    "import pandas as pd\n",
    "import numpy as np"
   ]
  },
  {
   "cell_type": "markdown",
   "id": "missing-adobe",
   "metadata": {},
   "source": [
    "### Pandas - Series"
   ]
  },
  {
   "cell_type": "code",
   "execution_count": 8,
   "id": "industrial-mason",
   "metadata": {},
   "outputs": [
    {
     "data": {
      "text/plain": [
       "0    4\n",
       "1    5\n",
       "2    6\n",
       "3    7\n",
       "4    8\n",
       "5    9\n",
       "dtype: int32"
      ]
     },
     "execution_count": 8,
     "metadata": {},
     "output_type": "execute_result"
    }
   ],
   "source": [
    "scores = pd.Series(np.arange(4, 10))\n",
    "scores"
   ]
  },
  {
   "cell_type": "markdown",
   "id": "medieval-explosion",
   "metadata": {},
   "source": [
    "#### Naming a series - for better documentation"
   ]
  },
  {
   "cell_type": "code",
   "execution_count": 9,
   "id": "wired-purple",
   "metadata": {},
   "outputs": [
    {
     "data": {
      "text/plain": [
       "0    4\n",
       "1    5\n",
       "2    6\n",
       "3    7\n",
       "4    8\n",
       "5    9\n",
       "Name: Scores of students, dtype: int32"
      ]
     },
     "execution_count": 9,
     "metadata": {},
     "output_type": "execute_result"
    }
   ],
   "source": [
    "scores.name = \"Scores of students\"\n",
    "scores"
   ]
  },
  {
   "cell_type": "markdown",
   "id": "comparable-minneapolis",
   "metadata": {},
   "source": [
    "#### Values of a series"
   ]
  },
  {
   "cell_type": "code",
   "execution_count": 10,
   "id": "international-model",
   "metadata": {},
   "outputs": [
    {
     "data": {
      "text/plain": [
       "array([4, 5, 6, 7, 8, 9])"
      ]
     },
     "execution_count": 10,
     "metadata": {},
     "output_type": "execute_result"
    }
   ],
   "source": [
    "scores.values"
   ]
  },
  {
   "cell_type": "markdown",
   "id": "religious-grass",
   "metadata": {},
   "source": [
    "#### Accessing & Slicing\n",
    "they are the same as NumPy Fundamenals"
   ]
  },
  {
   "cell_type": "code",
   "execution_count": 15,
   "id": "wound-reproduction",
   "metadata": {},
   "outputs": [
    {
     "data": {
      "text/plain": [
       "4"
      ]
     },
     "execution_count": 15,
     "metadata": {},
     "output_type": "execute_result"
    }
   ],
   "source": [
    "scores[0]"
   ]
  },
  {
   "cell_type": "code",
   "execution_count": 14,
   "id": "latest-circle",
   "metadata": {
    "scrolled": true
   },
   "outputs": [
    {
     "data": {
      "text/plain": [
       "0    4\n",
       "1    5\n",
       "2    6\n",
       "Name: Scores of students, dtype: int32"
      ]
     },
     "execution_count": 14,
     "metadata": {},
     "output_type": "execute_result"
    }
   ],
   "source": [
    "scores[0:3]"
   ]
  },
  {
   "cell_type": "markdown",
   "id": "considerable-spray",
   "metadata": {},
   "source": [
    "#### Index of a series"
   ]
  },
  {
   "cell_type": "code",
   "execution_count": 16,
   "id": "innocent-webmaster",
   "metadata": {},
   "outputs": [
    {
     "data": {
      "text/plain": [
       "RangeIndex(start=0, stop=6, step=1)"
      ]
     },
     "execution_count": 16,
     "metadata": {},
     "output_type": "execute_result"
    }
   ],
   "source": [
    "scores.index"
   ]
  },
  {
   "cell_type": "markdown",
   "id": "sudden-distributor",
   "metadata": {},
   "source": [
    "#### Changing the index 'lables' of a series"
   ]
  },
  {
   "cell_type": "code",
   "execution_count": 30,
   "id": "characteristic-visit",
   "metadata": {},
   "outputs": [],
   "source": [
    "labels = [\n",
    "    'Jackson', \n",
    "    'Peter',\n",
    "    'Chris',\n",
    "    'Emily',\n",
    "    'Sarah',\n",
    "    'John'\n",
    "]\n",
    "\n",
    "scores.index = labels"
   ]
  },
  {
   "cell_type": "code",
   "execution_count": 31,
   "id": "controversial-affair",
   "metadata": {},
   "outputs": [
    {
     "data": {
      "text/plain": [
       "Jackson    4\n",
       "Peter      5\n",
       "Chris      6\n",
       "Emily      7\n",
       "Sarah      8\n",
       "John       9\n",
       "Name: Scores of students, dtype: int32"
      ]
     },
     "execution_count": 31,
     "metadata": {},
     "output_type": "execute_result"
    }
   ],
   "source": [
    "scores"
   ]
  },
  {
   "cell_type": "code",
   "execution_count": 32,
   "id": "artificial-february",
   "metadata": {
    "scrolled": false
   },
   "outputs": [
    {
     "data": {
      "text/plain": [
       "4"
      ]
     },
     "execution_count": 32,
     "metadata": {},
     "output_type": "execute_result"
    }
   ],
   "source": [
    "### Now indexing is by name!\n",
    "scores['Jackson']"
   ]
  },
  {
   "cell_type": "markdown",
   "id": "roman-marketing",
   "metadata": {},
   "source": [
    "#### Creating a series from dictionary"
   ]
  },
  {
   "cell_type": "code",
   "execution_count": 33,
   "id": "soviet-century",
   "metadata": {
    "scrolled": false
   },
   "outputs": [
    {
     "data": {
      "text/plain": [
       "Jackson    4\n",
       "Peter      5\n",
       "Chris      6\n",
       "Emily      7\n",
       "Sarah      8\n",
       "John       9\n",
       "dtype: int64"
      ]
     },
     "execution_count": 33,
     "metadata": {},
     "output_type": "execute_result"
    }
   ],
   "source": [
    "pd.Series({\n",
    "    'Jackson': 4,\n",
    "    'Peter': 5,\n",
    "    'Chris': 6,\n",
    "    'Emily': 7,\n",
    "    'Sarah': 8,\n",
    "    'John':9\n",
    "})"
   ]
  },
  {
   "cell_type": "code",
   "execution_count": 35,
   "id": "dominant-geography",
   "metadata": {
    "scrolled": false
   },
   "outputs": [
    {
     "data": {
      "text/plain": [
       "Jackson    4\n",
       "Peter      5\n",
       "Chris      6\n",
       "Emily      7\n",
       "Sarah      8\n",
       "John       9\n",
       "dtype: int32"
      ]
     },
     "execution_count": 35,
     "metadata": {},
     "output_type": "execute_result"
    }
   ],
   "source": [
    "pd.Series(np.arange(4, 10), index = labels)"
   ]
  },
  {
   "cell_type": "markdown",
   "id": "stainless-washer",
   "metadata": {},
   "source": [
    "### First and Last nth rows from the dataset (by default, n = 5)"
   ]
  },
  {
   "cell_type": "code",
   "execution_count": null,
   "id": "blond-stupid",
   "metadata": {},
   "outputs": [],
   "source": [
    "df.head()"
   ]
  },
  {
   "cell_type": "code",
   "execution_count": null,
   "id": "elementary-sunday",
   "metadata": {},
   "outputs": [],
   "source": [
    "df.tail()"
   ]
  },
  {
   "cell_type": "markdown",
   "id": "delayed-canadian",
   "metadata": {},
   "source": [
    "## Information about dataframe\n",
    "- #Rows and #Columns\n",
    "- Basic Info\n",
    "- Summary Statistics\n",
    "- NULLS \n",
    "- Duplicates"
   ]
  },
  {
   "cell_type": "code",
   "execution_count": 54,
   "id": "ahead-township",
   "metadata": {
    "scrolled": false
   },
   "outputs": [],
   "source": [
    "df = pd.read_csv('medical_examination.csv')"
   ]
  },
  {
   "cell_type": "markdown",
   "id": "through-expert",
   "metadata": {},
   "source": [
    "### Number of Rows and Columns"
   ]
  },
  {
   "cell_type": "code",
   "execution_count": 38,
   "id": "reported-resident",
   "metadata": {},
   "outputs": [
    {
     "data": {
      "text/plain": [
       "(70000, 13)"
      ]
     },
     "execution_count": 38,
     "metadata": {},
     "output_type": "execute_result"
    }
   ],
   "source": [
    "df.shape"
   ]
  },
  {
   "cell_type": "markdown",
   "id": "systematic-administration",
   "metadata": {},
   "source": [
    "### Columns, Non-Null Count and Datatype."
   ]
  },
  {
   "cell_type": "code",
   "execution_count": 12,
   "id": "recognized-mississippi",
   "metadata": {
    "collapsed": true
   },
   "outputs": [
    {
     "name": "stdout",
     "output_type": "stream",
     "text": [
      "<class 'pandas.core.frame.DataFrame'>\n",
      "RangeIndex: 70000 entries, 0 to 69999\n",
      "Data columns (total 13 columns):\n",
      " #   Column       Non-Null Count  Dtype  \n",
      "---  ------       --------------  -----  \n",
      " 0   id           70000 non-null  int64  \n",
      " 1   age          70000 non-null  int64  \n",
      " 2   gender       70000 non-null  int64  \n",
      " 3   height       70000 non-null  int64  \n",
      " 4   weight       70000 non-null  float64\n",
      " 5   ap_hi        70000 non-null  int64  \n",
      " 6   ap_lo        70000 non-null  int64  \n",
      " 7   cholesterol  70000 non-null  int64  \n",
      " 8   gluc         70000 non-null  int64  \n",
      " 9   smoke        70000 non-null  int64  \n",
      " 10  alco         70000 non-null  int64  \n",
      " 11  active       70000 non-null  int64  \n",
      " 12  cardio       70000 non-null  int64  \n",
      "dtypes: float64(1), int64(12)\n",
      "memory usage: 6.9 MB\n"
     ]
    }
   ],
   "source": [
    "df.info()"
   ]
  },
  {
   "cell_type": "markdown",
   "id": "broad-leader",
   "metadata": {},
   "source": [
    "### Summary Statistics of each column in the dataset."
   ]
  },
  {
   "cell_type": "code",
   "execution_count": 5,
   "id": "beautiful-think",
   "metadata": {
    "collapsed": true
   },
   "outputs": [
    {
     "data": {
      "text/html": [
       "<div>\n",
       "<style scoped>\n",
       "    .dataframe tbody tr th:only-of-type {\n",
       "        vertical-align: middle;\n",
       "    }\n",
       "\n",
       "    .dataframe tbody tr th {\n",
       "        vertical-align: top;\n",
       "    }\n",
       "\n",
       "    .dataframe thead th {\n",
       "        text-align: right;\n",
       "    }\n",
       "</style>\n",
       "<table border=\"1\" class=\"dataframe\">\n",
       "  <thead>\n",
       "    <tr style=\"text-align: right;\">\n",
       "      <th></th>\n",
       "      <th>id</th>\n",
       "      <th>age</th>\n",
       "      <th>gender</th>\n",
       "      <th>height</th>\n",
       "      <th>weight</th>\n",
       "      <th>ap_hi</th>\n",
       "      <th>ap_lo</th>\n",
       "      <th>cholesterol</th>\n",
       "      <th>gluc</th>\n",
       "      <th>smoke</th>\n",
       "      <th>alco</th>\n",
       "      <th>active</th>\n",
       "      <th>cardio</th>\n",
       "    </tr>\n",
       "  </thead>\n",
       "  <tbody>\n",
       "    <tr>\n",
       "      <th>count</th>\n",
       "      <td>70000.000000</td>\n",
       "      <td>70000.000000</td>\n",
       "      <td>70000.000000</td>\n",
       "      <td>70000.000000</td>\n",
       "      <td>70000.000000</td>\n",
       "      <td>70000.000000</td>\n",
       "      <td>70000.000000</td>\n",
       "      <td>70000.000000</td>\n",
       "      <td>70000.000000</td>\n",
       "      <td>70000.000000</td>\n",
       "      <td>70000.000000</td>\n",
       "      <td>70000.000000</td>\n",
       "      <td>70000.000000</td>\n",
       "    </tr>\n",
       "    <tr>\n",
       "      <th>mean</th>\n",
       "      <td>49972.419900</td>\n",
       "      <td>19468.865814</td>\n",
       "      <td>1.349843</td>\n",
       "      <td>164.359229</td>\n",
       "      <td>74.205690</td>\n",
       "      <td>128.817286</td>\n",
       "      <td>96.630414</td>\n",
       "      <td>1.366871</td>\n",
       "      <td>1.226457</td>\n",
       "      <td>0.088129</td>\n",
       "      <td>0.053771</td>\n",
       "      <td>0.803729</td>\n",
       "      <td>0.499700</td>\n",
       "    </tr>\n",
       "    <tr>\n",
       "      <th>std</th>\n",
       "      <td>28851.302323</td>\n",
       "      <td>2467.251667</td>\n",
       "      <td>0.477253</td>\n",
       "      <td>8.210126</td>\n",
       "      <td>14.395757</td>\n",
       "      <td>154.011419</td>\n",
       "      <td>188.472530</td>\n",
       "      <td>0.680250</td>\n",
       "      <td>0.572270</td>\n",
       "      <td>0.283484</td>\n",
       "      <td>0.225568</td>\n",
       "      <td>0.397179</td>\n",
       "      <td>0.500003</td>\n",
       "    </tr>\n",
       "    <tr>\n",
       "      <th>min</th>\n",
       "      <td>0.000000</td>\n",
       "      <td>10798.000000</td>\n",
       "      <td>1.000000</td>\n",
       "      <td>55.000000</td>\n",
       "      <td>10.000000</td>\n",
       "      <td>-150.000000</td>\n",
       "      <td>-70.000000</td>\n",
       "      <td>1.000000</td>\n",
       "      <td>1.000000</td>\n",
       "      <td>0.000000</td>\n",
       "      <td>0.000000</td>\n",
       "      <td>0.000000</td>\n",
       "      <td>0.000000</td>\n",
       "    </tr>\n",
       "    <tr>\n",
       "      <th>25%</th>\n",
       "      <td>25006.750000</td>\n",
       "      <td>17664.000000</td>\n",
       "      <td>1.000000</td>\n",
       "      <td>159.000000</td>\n",
       "      <td>65.000000</td>\n",
       "      <td>120.000000</td>\n",
       "      <td>80.000000</td>\n",
       "      <td>1.000000</td>\n",
       "      <td>1.000000</td>\n",
       "      <td>0.000000</td>\n",
       "      <td>0.000000</td>\n",
       "      <td>1.000000</td>\n",
       "      <td>0.000000</td>\n",
       "    </tr>\n",
       "    <tr>\n",
       "      <th>50%</th>\n",
       "      <td>50001.500000</td>\n",
       "      <td>19703.000000</td>\n",
       "      <td>1.000000</td>\n",
       "      <td>165.000000</td>\n",
       "      <td>72.000000</td>\n",
       "      <td>120.000000</td>\n",
       "      <td>80.000000</td>\n",
       "      <td>1.000000</td>\n",
       "      <td>1.000000</td>\n",
       "      <td>0.000000</td>\n",
       "      <td>0.000000</td>\n",
       "      <td>1.000000</td>\n",
       "      <td>0.000000</td>\n",
       "    </tr>\n",
       "    <tr>\n",
       "      <th>75%</th>\n",
       "      <td>74889.250000</td>\n",
       "      <td>21327.000000</td>\n",
       "      <td>2.000000</td>\n",
       "      <td>170.000000</td>\n",
       "      <td>82.000000</td>\n",
       "      <td>140.000000</td>\n",
       "      <td>90.000000</td>\n",
       "      <td>2.000000</td>\n",
       "      <td>1.000000</td>\n",
       "      <td>0.000000</td>\n",
       "      <td>0.000000</td>\n",
       "      <td>1.000000</td>\n",
       "      <td>1.000000</td>\n",
       "    </tr>\n",
       "    <tr>\n",
       "      <th>max</th>\n",
       "      <td>99999.000000</td>\n",
       "      <td>23713.000000</td>\n",
       "      <td>3.000000</td>\n",
       "      <td>250.000000</td>\n",
       "      <td>200.000000</td>\n",
       "      <td>16020.000000</td>\n",
       "      <td>11000.000000</td>\n",
       "      <td>3.000000</td>\n",
       "      <td>3.000000</td>\n",
       "      <td>1.000000</td>\n",
       "      <td>1.000000</td>\n",
       "      <td>1.000000</td>\n",
       "      <td>1.000000</td>\n",
       "    </tr>\n",
       "  </tbody>\n",
       "</table>\n",
       "</div>"
      ],
      "text/plain": [
       "                 id           age        gender        height        weight  \\\n",
       "count  70000.000000  70000.000000  70000.000000  70000.000000  70000.000000   \n",
       "mean   49972.419900  19468.865814      1.349843    164.359229     74.205690   \n",
       "std    28851.302323   2467.251667      0.477253      8.210126     14.395757   \n",
       "min        0.000000  10798.000000      1.000000     55.000000     10.000000   \n",
       "25%    25006.750000  17664.000000      1.000000    159.000000     65.000000   \n",
       "50%    50001.500000  19703.000000      1.000000    165.000000     72.000000   \n",
       "75%    74889.250000  21327.000000      2.000000    170.000000     82.000000   \n",
       "max    99999.000000  23713.000000      3.000000    250.000000    200.000000   \n",
       "\n",
       "              ap_hi         ap_lo   cholesterol          gluc         smoke  \\\n",
       "count  70000.000000  70000.000000  70000.000000  70000.000000  70000.000000   \n",
       "mean     128.817286     96.630414      1.366871      1.226457      0.088129   \n",
       "std      154.011419    188.472530      0.680250      0.572270      0.283484   \n",
       "min     -150.000000    -70.000000      1.000000      1.000000      0.000000   \n",
       "25%      120.000000     80.000000      1.000000      1.000000      0.000000   \n",
       "50%      120.000000     80.000000      1.000000      1.000000      0.000000   \n",
       "75%      140.000000     90.000000      2.000000      1.000000      0.000000   \n",
       "max    16020.000000  11000.000000      3.000000      3.000000      1.000000   \n",
       "\n",
       "               alco        active        cardio  \n",
       "count  70000.000000  70000.000000  70000.000000  \n",
       "mean       0.053771      0.803729      0.499700  \n",
       "std        0.225568      0.397179      0.500003  \n",
       "min        0.000000      0.000000      0.000000  \n",
       "25%        0.000000      1.000000      0.000000  \n",
       "50%        0.000000      1.000000      0.000000  \n",
       "75%        0.000000      1.000000      1.000000  \n",
       "max        1.000000      1.000000      1.000000  "
      ]
     },
     "execution_count": 5,
     "metadata": {},
     "output_type": "execute_result"
    }
   ],
   "source": [
    "df.describe()"
   ]
  },
  {
   "cell_type": "markdown",
   "id": "persistent-charity",
   "metadata": {},
   "source": [
    "### Number of NULLs for each column."
   ]
  },
  {
   "cell_type": "code",
   "execution_count": 7,
   "id": "boolean-senegal",
   "metadata": {
    "collapsed": true
   },
   "outputs": [
    {
     "data": {
      "text/plain": [
       "id             0\n",
       "age            0\n",
       "gender         0\n",
       "height         0\n",
       "weight         0\n",
       "ap_hi          0\n",
       "ap_lo          0\n",
       "cholesterol    0\n",
       "gluc           0\n",
       "smoke          0\n",
       "alco           0\n",
       "active         0\n",
       "cardio         0\n",
       "dtype: int64"
      ]
     },
     "execution_count": 7,
     "metadata": {},
     "output_type": "execute_result"
    }
   ],
   "source": [
    "df.isnull().sum()"
   ]
  },
  {
   "cell_type": "markdown",
   "id": "short-chorus",
   "metadata": {},
   "source": [
    "### Number of NOT NULLS for each column."
   ]
  },
  {
   "cell_type": "code",
   "execution_count": 11,
   "id": "confident-aviation",
   "metadata": {
    "collapsed": true
   },
   "outputs": [
    {
     "data": {
      "text/plain": [
       "id             70000\n",
       "age            70000\n",
       "gender         70000\n",
       "height         70000\n",
       "weight         70000\n",
       "ap_hi          70000\n",
       "ap_lo          70000\n",
       "cholesterol    70000\n",
       "gluc           70000\n",
       "smoke          70000\n",
       "alco           70000\n",
       "active         70000\n",
       "cardio         70000\n",
       "dtype: int64"
      ]
     },
     "execution_count": 11,
     "metadata": {},
     "output_type": "execute_result"
    }
   ],
   "source": [
    "df.notnull().sum()"
   ]
  },
  {
   "cell_type": "markdown",
   "id": "automated-guarantee",
   "metadata": {},
   "source": [
    "```py\n",
    "### Pandas treatment of np.nan and None\n",
    "\n",
    "# single argument, returns single boolean value\n",
    "# series as argument, returns boolean series\n",
    "# dataframe as argument, returns boolean dataframe\n",
    "\n",
    "```"
   ]
  },
  {
   "cell_type": "code",
   "execution_count": 22,
   "id": "popular-hierarchy",
   "metadata": {
    "scrolled": true
   },
   "outputs": [
    {
     "data": {
      "text/plain": [
       "True"
      ]
     },
     "execution_count": 22,
     "metadata": {},
     "output_type": "execute_result"
    }
   ],
   "source": [
    "pd.isna(np.nan)"
   ]
  },
  {
   "cell_type": "code",
   "execution_count": 23,
   "id": "detected-diary",
   "metadata": {
    "scrolled": false
   },
   "outputs": [
    {
     "data": {
      "text/plain": [
       "True"
      ]
     },
     "execution_count": 23,
     "metadata": {},
     "output_type": "execute_result"
    }
   ],
   "source": [
    "pd.isna(np.nan)"
   ]
  },
  {
   "cell_type": "code",
   "execution_count": 20,
   "id": "familiar-novel",
   "metadata": {},
   "outputs": [
    {
     "data": {
      "text/plain": [
       "True"
      ]
     },
     "execution_count": 20,
     "metadata": {},
     "output_type": "execute_result"
    }
   ],
   "source": [
    "pd.isnull(np.nan)"
   ]
  },
  {
   "cell_type": "code",
   "execution_count": 24,
   "id": "protected-worthy",
   "metadata": {
    "scrolled": false
   },
   "outputs": [
    {
     "data": {
      "text/plain": [
       "True"
      ]
     },
     "execution_count": 24,
     "metadata": {},
     "output_type": "execute_result"
    }
   ],
   "source": [
    "pd.isnull(None)"
   ]
  },
  {
   "cell_type": "code",
   "execution_count": 29,
   "id": "plain-julian",
   "metadata": {
    "scrolled": true
   },
   "outputs": [
    {
     "data": {
      "text/plain": [
       "0    False\n",
       "1     True\n",
       "2    False\n",
       "dtype: bool"
      ]
     },
     "execution_count": 29,
     "metadata": {},
     "output_type": "execute_result"
    }
   ],
   "source": [
    "pd.isnull(pd.Series([1, None, 2]))"
   ]
  },
  {
   "cell_type": "code",
   "execution_count": 30,
   "id": "lucky-southwest",
   "metadata": {},
   "outputs": [
    {
     "data": {
      "text/html": [
       "<div>\n",
       "<style scoped>\n",
       "    .dataframe tbody tr th:only-of-type {\n",
       "        vertical-align: middle;\n",
       "    }\n",
       "\n",
       "    .dataframe tbody tr th {\n",
       "        vertical-align: top;\n",
       "    }\n",
       "\n",
       "    .dataframe thead th {\n",
       "        text-align: right;\n",
       "    }\n",
       "</style>\n",
       "<table border=\"1\" class=\"dataframe\">\n",
       "  <thead>\n",
       "    <tr style=\"text-align: right;\">\n",
       "      <th></th>\n",
       "      <th>Column A</th>\n",
       "      <th>Column B</th>\n",
       "    </tr>\n",
       "  </thead>\n",
       "  <tbody>\n",
       "    <tr>\n",
       "      <th>0</th>\n",
       "      <td>False</td>\n",
       "      <td>True</td>\n",
       "    </tr>\n",
       "    <tr>\n",
       "      <th>1</th>\n",
       "      <td>True</td>\n",
       "      <td>False</td>\n",
       "    </tr>\n",
       "    <tr>\n",
       "      <th>2</th>\n",
       "      <td>False</td>\n",
       "      <td>False</td>\n",
       "    </tr>\n",
       "  </tbody>\n",
       "</table>\n",
       "</div>"
      ],
      "text/plain": [
       "   Column A  Column B\n",
       "0     False      True\n",
       "1      True     False\n",
       "2     False     False"
      ]
     },
     "execution_count": 30,
     "metadata": {},
     "output_type": "execute_result"
    }
   ],
   "source": [
    "pd.isnull(pd.DataFrame({\n",
    "    'Column A': [1, np.nan, 7],\n",
    "    'Column B': [np.nan, 2, 3]\n",
    "}))"
   ]
  },
  {
   "cell_type": "markdown",
   "id": "anonymous-distributor",
   "metadata": {},
   "source": [
    "### Number of Duplicate rows."
   ]
  },
  {
   "cell_type": "code",
   "execution_count": 78,
   "id": "given-yesterday",
   "metadata": {},
   "outputs": [
    {
     "data": {
      "text/plain": [
       "0        False\n",
       "1        False\n",
       "2        False\n",
       "3        False\n",
       "4        False\n",
       "         ...  \n",
       "69995    False\n",
       "69996    False\n",
       "69997    False\n",
       "69998    False\n",
       "69999    False\n",
       "Length: 70000, dtype: bool"
      ]
     },
     "execution_count": 78,
     "metadata": {},
     "output_type": "execute_result"
    }
   ],
   "source": [
    "# boolean series indicate if a row is duplicate 'true'\n",
    "# or not duplicate 'false'\n",
    "df.duplicated()"
   ]
  },
  {
   "cell_type": "code",
   "execution_count": 10,
   "id": "numeric-bradford",
   "metadata": {
    "scrolled": true
   },
   "outputs": [
    {
     "data": {
      "text/plain": [
       "0"
      ]
     },
     "execution_count": 10,
     "metadata": {},
     "output_type": "execute_result"
    }
   ],
   "source": [
    "df.duplicated().sum()"
   ]
  },
  {
   "cell_type": "markdown",
   "id": "excessive-burning",
   "metadata": {},
   "source": [
    "## Reading from External Resources (JSON)"
   ]
  },
  {
   "cell_type": "markdown",
   "id": "above-aquatic",
   "metadata": {},
   "source": [
    "### From JSON"
   ]
  },
  {
   "cell_type": "markdown",
   "id": "limiting-giving",
   "metadata": {},
   "source": [
    "**First way**\n",
    "```py\n",
    "filepath = os.path.join(path, \"filename.extension\") # .txt / .JSON\n",
    "listOfJSONObjects = []\n",
    "\n",
    "with open(filepath) as JSONObjects:\n",
    "    for JSONObject in JSONObjects:\n",
    "        json = json.loads(JSONObject)\n",
    "        listOfJSONObjects.append(json)\n",
    "        \n",
    "        \n",
    "df = pd.DataFrame(listOfJSONObjects)\n",
    "```\n",
    "\n",
    "**Second way**\n",
    "\n",
    "```py\n",
    "# assume filepath exists\n",
    "df = pd.read_json(filepath, lines = true)\n",
    "```"
   ]
  },
  {
   "cell_type": "markdown",
   "id": "russian-procedure",
   "metadata": {},
   "source": [
    "## Series Tricks"
   ]
  },
  {
   "cell_type": "code",
   "execution_count": 39,
   "id": "compliant-supplement",
   "metadata": {},
   "outputs": [
    {
     "data": {
      "text/plain": [
       "day1    430\n",
       "day2    380\n",
       "day3    390\n",
       "day4    450\n",
       "day5    230\n",
       "dtype: int64"
      ]
     },
     "execution_count": 39,
     "metadata": {},
     "output_type": "execute_result"
    }
   ],
   "source": [
    "calories = {\"day1\": 430, \"day2\": 380, \"day3\": 390, \"day4\":450, \"day5\": 230}\n",
    "series = pd.Series(calories)\n",
    "series"
   ]
  },
  {
   "cell_type": "markdown",
   "id": "enabling-level",
   "metadata": {},
   "source": [
    "### The maximum value of a series"
   ]
  },
  {
   "cell_type": "code",
   "execution_count": 40,
   "id": "hairy-merchandise",
   "metadata": {},
   "outputs": [
    {
     "data": {
      "text/plain": [
       "450"
      ]
     },
     "execution_count": 40,
     "metadata": {},
     "output_type": "execute_result"
    }
   ],
   "source": [
    "series.max()"
   ]
  },
  {
   "cell_type": "markdown",
   "id": "african-uncle",
   "metadata": {},
   "source": [
    "### The name (index) of the maximum value in a series"
   ]
  },
  {
   "cell_type": "code",
   "execution_count": 37,
   "id": "decent-priority",
   "metadata": {
    "scrolled": true
   },
   "outputs": [
    {
     "data": {
      "text/plain": [
       "'day4'"
      ]
     },
     "execution_count": 37,
     "metadata": {},
     "output_type": "execute_result"
    }
   ],
   "source": [
    "series.idxmax()"
   ]
  },
  {
   "cell_type": "markdown",
   "id": "warming-export",
   "metadata": {},
   "source": [
    "### Percentage of each element in a series"
   ]
  },
  {
   "cell_type": "code",
   "execution_count": 46,
   "id": "comparative-brave",
   "metadata": {
    "collapsed": true
   },
   "outputs": [
    {
     "data": {
      "text/html": [
       "<div>\n",
       "<style scoped>\n",
       "    .dataframe tbody tr th:only-of-type {\n",
       "        vertical-align: middle;\n",
       "    }\n",
       "\n",
       "    .dataframe tbody tr th {\n",
       "        vertical-align: top;\n",
       "    }\n",
       "\n",
       "    .dataframe thead th {\n",
       "        text-align: right;\n",
       "    }\n",
       "</style>\n",
       "<table border=\"1\" class=\"dataframe\">\n",
       "  <thead>\n",
       "    <tr style=\"text-align: right;\">\n",
       "      <th></th>\n",
       "      <th>name</th>\n",
       "      <th>population</th>\n",
       "      <th>country</th>\n",
       "    </tr>\n",
       "  </thead>\n",
       "  <tbody>\n",
       "    <tr>\n",
       "      <th>0</th>\n",
       "      <td>London</td>\n",
       "      <td>8615246</td>\n",
       "      <td>England</td>\n",
       "    </tr>\n",
       "    <tr>\n",
       "      <th>1</th>\n",
       "      <td>Berlin</td>\n",
       "      <td>3562166</td>\n",
       "      <td>Germany</td>\n",
       "    </tr>\n",
       "    <tr>\n",
       "      <th>2</th>\n",
       "      <td>Madrid</td>\n",
       "      <td>3165235</td>\n",
       "      <td>Spain</td>\n",
       "    </tr>\n",
       "    <tr>\n",
       "      <th>3</th>\n",
       "      <td>Rome</td>\n",
       "      <td>2874038</td>\n",
       "      <td>Italy</td>\n",
       "    </tr>\n",
       "    <tr>\n",
       "      <th>4</th>\n",
       "      <td>Paris</td>\n",
       "      <td>2273305</td>\n",
       "      <td>France</td>\n",
       "    </tr>\n",
       "    <tr>\n",
       "      <th>5</th>\n",
       "      <td>Vienna</td>\n",
       "      <td>1805681</td>\n",
       "      <td>Austria</td>\n",
       "    </tr>\n",
       "    <tr>\n",
       "      <th>6</th>\n",
       "      <td>Bucharest</td>\n",
       "      <td>1803425</td>\n",
       "      <td>Romania</td>\n",
       "    </tr>\n",
       "    <tr>\n",
       "      <th>7</th>\n",
       "      <td>Hamburg</td>\n",
       "      <td>1760433</td>\n",
       "      <td>Germany</td>\n",
       "    </tr>\n",
       "    <tr>\n",
       "      <th>8</th>\n",
       "      <td>Budapest</td>\n",
       "      <td>1754000</td>\n",
       "      <td>Hungary</td>\n",
       "    </tr>\n",
       "    <tr>\n",
       "      <th>9</th>\n",
       "      <td>Warsaw</td>\n",
       "      <td>1740119</td>\n",
       "      <td>Poland</td>\n",
       "    </tr>\n",
       "    <tr>\n",
       "      <th>10</th>\n",
       "      <td>Barcelona</td>\n",
       "      <td>1602386</td>\n",
       "      <td>Spain</td>\n",
       "    </tr>\n",
       "    <tr>\n",
       "      <th>11</th>\n",
       "      <td>Munich</td>\n",
       "      <td>1493900</td>\n",
       "      <td>Germany</td>\n",
       "    </tr>\n",
       "    <tr>\n",
       "      <th>12</th>\n",
       "      <td>Milan</td>\n",
       "      <td>1350680</td>\n",
       "      <td>Italy</td>\n",
       "    </tr>\n",
       "  </tbody>\n",
       "</table>\n",
       "</div>"
      ],
      "text/plain": [
       "         name  population  country\n",
       "0      London     8615246  England\n",
       "1      Berlin     3562166  Germany\n",
       "2      Madrid     3165235    Spain\n",
       "3        Rome     2874038    Italy\n",
       "4       Paris     2273305   France\n",
       "5      Vienna     1805681  Austria\n",
       "6   Bucharest     1803425  Romania\n",
       "7     Hamburg     1760433  Germany\n",
       "8    Budapest     1754000  Hungary\n",
       "9      Warsaw     1740119   Poland\n",
       "10  Barcelona     1602386    Spain\n",
       "11     Munich     1493900  Germany\n",
       "12      Milan     1350680    Italy"
      ]
     },
     "execution_count": 46,
     "metadata": {},
     "output_type": "execute_result"
    }
   ],
   "source": [
    "cities = {\"name\": [\"London\", \"Berlin\", \"Madrid\", \"Rome\", \n",
    "                   \"Paris\", \"Vienna\", \"Bucharest\", \"Hamburg\", \n",
    "                   \"Budapest\", \"Warsaw\", \"Barcelona\", \n",
    "                   \"Munich\", \"Milan\"],\n",
    "          \"population\": [8615246, 3562166, 3165235, 2874038,\n",
    "                         2273305, 1805681, 1803425, 1760433,\n",
    "                         1754000, 1740119, 1602386, 1493900,\n",
    "                         1350680],\n",
    "          \"country\": [\"England\", \"Germany\", \"Spain\", \"Italy\",\n",
    "                      \"France\", \"Austria\", \"Romania\", \n",
    "                      \"Germany\", \"Hungary\", \"Poland\", \"Spain\",\n",
    "                      \"Germany\", \"Italy\"]}\n",
    "\n",
    "city_frame = pd.DataFrame(cities)\n",
    "city_frame"
   ]
  },
  {
   "cell_type": "code",
   "execution_count": 65,
   "id": "inappropriate-watson",
   "metadata": {
    "scrolled": false
   },
   "outputs": [
    {
     "data": {
      "text/plain": [
       "Germany    0.230769\n",
       "Italy      0.153846\n",
       "Spain      0.153846\n",
       "Romania    0.076923\n",
       "England    0.076923\n",
       "Austria    0.076923\n",
       "Poland     0.076923\n",
       "France     0.076923\n",
       "Hungary    0.076923\n",
       "Name: country, dtype: float64"
      ]
     },
     "execution_count": 65,
     "metadata": {},
     "output_type": "execute_result"
    }
   ],
   "source": [
    "# 0.xxxxxx\n",
    "city_frame.country.value_counts(normalize = True)"
   ]
  },
  {
   "cell_type": "code",
   "execution_count": 66,
   "id": "alone-pearl",
   "metadata": {},
   "outputs": [
    {
     "data": {
      "text/plain": [
       "Germany    23.076923\n",
       "Italy      15.384615\n",
       "Spain      15.384615\n",
       "Romania     7.692308\n",
       "England     7.692308\n",
       "Austria     7.692308\n",
       "Poland      7.692308\n",
       "France      7.692308\n",
       "Hungary     7.692308\n",
       "Name: country, dtype: float64"
      ]
     },
     "execution_count": 66,
     "metadata": {},
     "output_type": "execute_result"
    }
   ],
   "source": [
    "# XX.xxxxxxx\n",
    "city_frame.country.value_counts(normalize = True) * 100"
   ]
  },
  {
   "cell_type": "code",
   "execution_count": 67,
   "id": "sapphire-speaker",
   "metadata": {
    "scrolled": true
   },
   "outputs": [
    {
     "data": {
      "text/plain": [
       "Germany    23.1\n",
       "Italy      15.4\n",
       "Spain      15.4\n",
       "Romania     7.7\n",
       "England     7.7\n",
       "Austria     7.7\n",
       "Poland      7.7\n",
       "France      7.7\n",
       "Hungary     7.7\n",
       "Name: country, dtype: float64"
      ]
     },
     "execution_count": 67,
     "metadata": {},
     "output_type": "execute_result"
    }
   ],
   "source": [
    "# XX.xxxxx\n",
    "round(city_frame.country.value_counts(normalize = True) * 100, 1)"
   ]
  },
  {
   "cell_type": "markdown",
   "id": "quantitative-chaos",
   "metadata": {},
   "source": [
    "### Finding unique values of a series"
   ]
  },
  {
   "cell_type": "code",
   "execution_count": 72,
   "id": "physical-christianity",
   "metadata": {
    "scrolled": true
   },
   "outputs": [
    {
     "data": {
      "text/plain": [
       "array(['England', 'Germany', 'Spain', 'Italy', 'France', 'Austria',\n",
       "       'Romania', 'Germany', 'Hungary', 'Poland', 'Spain', 'Germany',\n",
       "       'Italy'], dtype=object)"
      ]
     },
     "execution_count": 72,
     "metadata": {},
     "output_type": "execute_result"
    }
   ],
   "source": [
    "city_frame.country.values"
   ]
  },
  {
   "cell_type": "code",
   "execution_count": 76,
   "id": "reflected-container",
   "metadata": {},
   "outputs": [
    {
     "data": {
      "text/plain": [
       "13"
      ]
     },
     "execution_count": 76,
     "metadata": {},
     "output_type": "execute_result"
    }
   ],
   "source": [
    "len(city_frame.country)"
   ]
  },
  {
   "cell_type": "code",
   "execution_count": 74,
   "id": "absolute-forth",
   "metadata": {},
   "outputs": [
    {
     "data": {
      "text/plain": [
       "array(['England', 'Germany', 'Spain', 'Italy', 'France', 'Austria',\n",
       "       'Romania', 'Hungary', 'Poland'], dtype=object)"
      ]
     },
     "execution_count": 74,
     "metadata": {},
     "output_type": "execute_result"
    }
   ],
   "source": [
    "city_frame.country.unique()"
   ]
  },
  {
   "cell_type": "code",
   "execution_count": 77,
   "id": "dynamic-trauma",
   "metadata": {},
   "outputs": [
    {
     "data": {
      "text/plain": [
       "9"
      ]
     },
     "execution_count": 77,
     "metadata": {},
     "output_type": "execute_result"
    }
   ],
   "source": [
    "len(city_frame.country.unique())"
   ]
  }
 ],
 "metadata": {
  "kernelspec": {
   "display_name": "Python 3",
   "language": "python",
   "name": "python3"
  },
  "language_info": {
   "codemirror_mode": {
    "name": "ipython",
    "version": 3
   },
   "file_extension": ".py",
   "mimetype": "text/x-python",
   "name": "python",
   "nbconvert_exporter": "python",
   "pygments_lexer": "ipython3",
   "version": "3.8.5"
  }
 },
 "nbformat": 4,
 "nbformat_minor": 5
}
