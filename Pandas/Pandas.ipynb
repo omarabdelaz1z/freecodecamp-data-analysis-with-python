{
 "cells": [
  {
   "attachments": {},
   "cell_type": "markdown",
   "id": "recent-singing",
   "metadata": {},
   "source": [
    "### Pandas Notes\n",
    "\n",
    "\n",
    "> - Pandas series is a given sequence of data indexed by a given index indentifier, that could be a number, string or date, etc..\n",
    "> - \n",
    "> - \n",
    "\n",
    "<img src=\"pandas.png\" width=\"300\" height = \"300\">"
   ]
  },
  {
   "cell_type": "markdown",
   "id": "challenging-glucose",
   "metadata": {},
   "source": [
    "## Import Packages"
   ]
  },
  {
   "cell_type": "code",
   "execution_count": 2,
   "id": "exclusive-sunset",
   "metadata": {},
   "outputs": [],
   "source": [
    "import pandas as pd\n",
    "import numpy as np"
   ]
  },
  {
   "cell_type": "markdown",
   "id": "missing-adobe",
   "metadata": {},
   "source": [
    "### Pandas - Series"
   ]
  },
  {
   "cell_type": "code",
   "execution_count": 8,
   "id": "industrial-mason",
   "metadata": {},
   "outputs": [
    {
     "data": {
      "text/plain": [
       "0    4\n",
       "1    5\n",
       "2    6\n",
       "3    7\n",
       "4    8\n",
       "5    9\n",
       "dtype: int32"
      ]
     },
     "execution_count": 8,
     "metadata": {},
     "output_type": "execute_result"
    }
   ],
   "source": [
    "scores = pd.Series(np.arange(4, 10))\n",
    "scores"
   ]
  },
  {
   "cell_type": "markdown",
   "id": "medieval-explosion",
   "metadata": {},
   "source": [
    "#### Naming a series - for better documentation"
   ]
  },
  {
   "cell_type": "code",
   "execution_count": 9,
   "id": "wired-purple",
   "metadata": {},
   "outputs": [
    {
     "data": {
      "text/plain": [
       "0    4\n",
       "1    5\n",
       "2    6\n",
       "3    7\n",
       "4    8\n",
       "5    9\n",
       "Name: Scores of students, dtype: int32"
      ]
     },
     "execution_count": 9,
     "metadata": {},
     "output_type": "execute_result"
    }
   ],
   "source": [
    "scores.name = \"Scores of students\"\n",
    "scores"
   ]
  },
  {
   "cell_type": "markdown",
   "id": "comparable-minneapolis",
   "metadata": {},
   "source": [
    "#### Values of a series"
   ]
  },
  {
   "cell_type": "code",
   "execution_count": 10,
   "id": "international-model",
   "metadata": {},
   "outputs": [
    {
     "data": {
      "text/plain": [
       "array([4, 5, 6, 7, 8, 9])"
      ]
     },
     "execution_count": 10,
     "metadata": {},
     "output_type": "execute_result"
    }
   ],
   "source": [
    "scores.values"
   ]
  },
  {
   "cell_type": "markdown",
   "id": "religious-grass",
   "metadata": {},
   "source": [
    "#### Accessing & Slicing\n",
    "they are the same as NumPy Fundamenals"
   ]
  },
  {
   "cell_type": "code",
   "execution_count": 15,
   "id": "wound-reproduction",
   "metadata": {},
   "outputs": [
    {
     "data": {
      "text/plain": [
       "4"
      ]
     },
     "execution_count": 15,
     "metadata": {},
     "output_type": "execute_result"
    }
   ],
   "source": [
    "scores[0]"
   ]
  },
  {
   "cell_type": "code",
   "execution_count": 14,
   "id": "latest-circle",
   "metadata": {
    "scrolled": true
   },
   "outputs": [
    {
     "data": {
      "text/plain": [
       "0    4\n",
       "1    5\n",
       "2    6\n",
       "Name: Scores of students, dtype: int32"
      ]
     },
     "execution_count": 14,
     "metadata": {},
     "output_type": "execute_result"
    }
   ],
   "source": [
    "scores[0:3]"
   ]
  },
  {
   "cell_type": "markdown",
   "id": "considerable-spray",
   "metadata": {},
   "source": [
    "#### Index of a series"
   ]
  },
  {
   "cell_type": "code",
   "execution_count": 16,
   "id": "innocent-webmaster",
   "metadata": {},
   "outputs": [
    {
     "data": {
      "text/plain": [
       "RangeIndex(start=0, stop=6, step=1)"
      ]
     },
     "execution_count": 16,
     "metadata": {},
     "output_type": "execute_result"
    }
   ],
   "source": [
    "scores.index"
   ]
  },
  {
   "cell_type": "markdown",
   "id": "sudden-distributor",
   "metadata": {},
   "source": [
    "#### Changing the index 'lables' of a series"
   ]
  },
  {
   "cell_type": "code",
   "execution_count": 30,
   "id": "characteristic-visit",
   "metadata": {},
   "outputs": [],
   "source": [
    "labels = [\n",
    "    'Jackson', \n",
    "    'Peter',\n",
    "    'Chris',\n",
    "    'Emily',\n",
    "    'Sarah',\n",
    "    'John'\n",
    "]\n",
    "\n",
    "scores.index = labels"
   ]
  },
  {
   "cell_type": "code",
   "execution_count": 31,
   "id": "controversial-affair",
   "metadata": {},
   "outputs": [
    {
     "data": {
      "text/plain": [
       "Jackson    4\n",
       "Peter      5\n",
       "Chris      6\n",
       "Emily      7\n",
       "Sarah      8\n",
       "John       9\n",
       "Name: Scores of students, dtype: int32"
      ]
     },
     "execution_count": 31,
     "metadata": {},
     "output_type": "execute_result"
    }
   ],
   "source": [
    "scores"
   ]
  },
  {
   "cell_type": "code",
   "execution_count": 32,
   "id": "artificial-february",
   "metadata": {
    "scrolled": false
   },
   "outputs": [
    {
     "data": {
      "text/plain": [
       "4"
      ]
     },
     "execution_count": 32,
     "metadata": {},
     "output_type": "execute_result"
    }
   ],
   "source": [
    "### Now indexing is by name!\n",
    "scores['Jackson']"
   ]
  },
  {
   "cell_type": "markdown",
   "id": "roman-marketing",
   "metadata": {},
   "source": [
    "#### Creating a series from dictionary"
   ]
  },
  {
   "cell_type": "code",
   "execution_count": 33,
   "id": "soviet-century",
   "metadata": {
    "scrolled": false
   },
   "outputs": [
    {
     "data": {
      "text/plain": [
       "Jackson    4\n",
       "Peter      5\n",
       "Chris      6\n",
       "Emily      7\n",
       "Sarah      8\n",
       "John       9\n",
       "dtype: int64"
      ]
     },
     "execution_count": 33,
     "metadata": {},
     "output_type": "execute_result"
    }
   ],
   "source": [
    "pd.Series({\n",
    "    'Jackson': 4,\n",
    "    'Peter': 5,\n",
    "    'Chris': 6,\n",
    "    'Emily': 7,\n",
    "    'Sarah': 8,\n",
    "    'John':9\n",
    "})"
   ]
  },
  {
   "cell_type": "code",
   "execution_count": 35,
   "id": "dominant-geography",
   "metadata": {
    "scrolled": false
   },
   "outputs": [
    {
     "data": {
      "text/plain": [
       "Jackson    4\n",
       "Peter      5\n",
       "Chris      6\n",
       "Emily      7\n",
       "Sarah      8\n",
       "John       9\n",
       "dtype: int32"
      ]
     },
     "execution_count": 35,
     "metadata": {},
     "output_type": "execute_result"
    }
   ],
   "source": [
    "pd.Series(np.arange(4, 10), index = labels)"
   ]
  }
 ],
 "metadata": {
  "kernelspec": {
   "display_name": "Python 3",
   "language": "python",
   "name": "python3"
  },
  "language_info": {
   "codemirror_mode": {
    "name": "ipython",
    "version": 3
   },
   "file_extension": ".py",
   "mimetype": "text/x-python",
   "name": "python",
   "nbconvert_exporter": "python",
   "pygments_lexer": "ipython3",
   "version": "3.8.5"
  }
 },
 "nbformat": 4,
 "nbformat_minor": 5
}
